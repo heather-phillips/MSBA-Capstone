{
 "cells": [
  {
   "cell_type": "markdown",
   "id": "132bf3ba",
   "metadata": {},
   "source": [
    "### Imports"
   ]
  },
  {
   "cell_type": "code",
   "execution_count": 1,
   "id": "15e797e2",
   "metadata": {},
   "outputs": [],
   "source": [
    "from googlemaps import Client as GoogleMaps\n",
    "import pandas as pd \n",
    "from pathlib import Path\n"
   ]
  },
  {
   "cell_type": "code",
   "execution_count": 2,
   "id": "6b23ca53",
   "metadata": {},
   "outputs": [],
   "source": [
    "from API_Keys import api_key\n",
    "#API restricted"
   ]
  },
  {
   "cell_type": "markdown",
   "id": "b4918208",
   "metadata": {},
   "source": [
    "Read in Master Project List as Excel file and create dataframe"
   ]
  },
  {
   "cell_type": "code",
   "execution_count": 3,
   "id": "e183d1ea",
   "metadata": {},
   "outputs": [],
   "source": [
    "# read an excel file and convert into a dataframe object\n",
    "df = pd.DataFrame(pd.read_excel(r'/Users/heatherphillips/Library/CloudStorage/OneDrive-TheUniversityofMontana/Capstone/MSBA-Capstone/Data/Book1.xlsx'))\n",
    "  \n",
    "# show the dataframe\n",
    "#df"
   ]
  },
  {
   "cell_type": "markdown",
   "id": "61f96850",
   "metadata": {},
   "source": [
    "Create vatiable for Google Maps API Key"
   ]
  },
  {
   "cell_type": "code",
   "execution_count": 4,
   "id": "8beac875",
   "metadata": {},
   "outputs": [],
   "source": [
    "gmaps = GoogleMaps(api_key)"
   ]
  },
  {
   "cell_type": "markdown",
   "id": "19d6f9f7",
   "metadata": {},
   "source": [
    "Add Long and Lat Columns to DF"
   ]
  },
  {
   "cell_type": "code",
   "execution_count": 5,
   "id": "08ad4877",
   "metadata": {},
   "outputs": [],
   "source": [
    "df['long'] = \"\"\n",
    "df['lat'] = \"\""
   ]
  },
  {
   "cell_type": "code",
   "execution_count": 6,
   "id": "a95f9e31",
   "metadata": {},
   "outputs": [],
   "source": [
    "#df"
   ]
  },
  {
   "cell_type": "markdown",
   "id": "d9acaedd",
   "metadata": {},
   "source": [
    "Function to find Lat and Lon"
   ]
  },
  {
   "cell_type": "code",
   "execution_count": 8,
   "id": "76b02cb9",
   "metadata": {},
   "outputs": [
    {
     "name": "stdout",
     "output_type": "stream",
     "text": [
      "Unexpected error occurred. REQUEST_DENIED (This IP, site or mobile application is not authorized to use this API key. Request received from IP address 2600:6c67:6c7f:9ace:4800:950:3bbb:c801, with empty referer)\n",
      "Unexpected error occurred. REQUEST_DENIED (This IP, site or mobile application is not authorized to use this API key. Request received from IP address 2600:6c67:6c7f:9ace:4800:950:3bbb:c801, with empty referer)\n",
      "Unexpected error occurred. REQUEST_DENIED (This IP, site or mobile application is not authorized to use this API key. Request received from IP address 2600:6c67:6c7f:9ace:4800:950:3bbb:c801, with empty referer)\n",
      "Unexpected error occurred. REQUEST_DENIED (This IP, site or mobile application is not authorized to use this API key. Request received from IP address 2600:6c67:6c7f:9ace:4800:950:3bbb:c801, with empty referer)\n",
      "Unexpected error occurred. REQUEST_DENIED (This IP, site or mobile application is not authorized to use this API key. Request received from IP address 2600:6c67:6c7f:9ace:4800:950:3bbb:c801, with empty referer)\n",
      "Unexpected error occurred. REQUEST_DENIED (This IP, site or mobile application is not authorized to use this API key. Request received from IP address 2600:6c67:6c7f:9ace:4800:950:3bbb:c801, with empty referer)\n",
      "Unexpected error occurred. REQUEST_DENIED (This IP, site or mobile application is not authorized to use this API key. Request received from IP address 2600:6c67:6c7f:9ace:4800:950:3bbb:c801, with empty referer)\n",
      "Unexpected error occurred. REQUEST_DENIED (This IP, site or mobile application is not authorized to use this API key. Request received from IP address 2600:6c67:6c7f:9ace:4800:950:3bbb:c801, with empty referer)\n",
      "Unexpected error occurred. REQUEST_DENIED (This IP, site or mobile application is not authorized to use this API key. Request received from IP address 2600:6c67:6c7f:9ace:4800:950:3bbb:c801, with empty referer)\n",
      "Unexpected error occurred. REQUEST_DENIED (This IP, site or mobile application is not authorized to use this API key. Request received from IP address 2600:6c67:6c7f:9ace:4800:950:3bbb:c801, with empty referer)\n",
      "Unexpected error occurred. REQUEST_DENIED (This IP, site or mobile application is not authorized to use this API key. Request received from IP address 2600:6c67:6c7f:9ace:4800:950:3bbb:c801, with empty referer)\n",
      "Unexpected error occurred. REQUEST_DENIED (This IP, site or mobile application is not authorized to use this API key. Request received from IP address 2600:6c67:6c7f:9ace:4800:950:3bbb:c801, with empty referer)\n",
      "Unexpected error occurred. REQUEST_DENIED (This IP, site or mobile application is not authorized to use this API key. Request received from IP address 2600:6c67:6c7f:9ace:4800:950:3bbb:c801, with empty referer)\n",
      "Unexpected error occurred. REQUEST_DENIED (This IP, site or mobile application is not authorized to use this API key. Request received from IP address 2600:6c67:6c7f:9ace:4800:950:3bbb:c801, with empty referer)\n",
      "Unexpected error occurred. REQUEST_DENIED (This IP, site or mobile application is not authorized to use this API key. Request received from IP address 2600:6c67:6c7f:9ace:4800:950:3bbb:c801, with empty referer)\n",
      "Unexpected error occurred. REQUEST_DENIED (This IP, site or mobile application is not authorized to use this API key. Request received from IP address 2600:6c67:6c7f:9ace:4800:950:3bbb:c801, with empty referer)\n",
      "Unexpected error occurred. REQUEST_DENIED (This IP, site or mobile application is not authorized to use this API key. Request received from IP address 2600:6c67:6c7f:9ace:4800:950:3bbb:c801, with empty referer)\n",
      "Unexpected error occurred. REQUEST_DENIED (This IP, site or mobile application is not authorized to use this API key. Request received from IP address 2600:6c67:6c7f:9ace:4800:950:3bbb:c801, with empty referer)\n",
      "Unexpected error occurred. REQUEST_DENIED (This IP, site or mobile application is not authorized to use this API key. Request received from IP address 2600:6c67:6c7f:9ace:4800:950:3bbb:c801, with empty referer)\n",
      "Unexpected error occurred. REQUEST_DENIED (This IP, site or mobile application is not authorized to use this API key. Request received from IP address 2600:6c67:6c7f:9ace:4800:950:3bbb:c801, with empty referer)\n",
      "Unexpected error occurred. REQUEST_DENIED (This IP, site or mobile application is not authorized to use this API key. Request received from IP address 2600:6c67:6c7f:9ace:4800:950:3bbb:c801, with empty referer)\n",
      "Unexpected error occurred. REQUEST_DENIED (This IP, site or mobile application is not authorized to use this API key. Request received from IP address 2600:6c67:6c7f:9ace:4800:950:3bbb:c801, with empty referer)\n",
      "Unexpected error occurred. REQUEST_DENIED (This IP, site or mobile application is not authorized to use this API key. Request received from IP address 2600:6c67:6c7f:9ace:4800:950:3bbb:c801, with empty referer)\n",
      "Unexpected error occurred. REQUEST_DENIED (This IP, site or mobile application is not authorized to use this API key. Request received from IP address 2600:6c67:6c7f:9ace:4800:950:3bbb:c801, with empty referer)\n",
      "Unexpected error occurred. REQUEST_DENIED (This IP, site or mobile application is not authorized to use this API key. Request received from IP address 2600:6c67:6c7f:9ace:4800:950:3bbb:c801, with empty referer)\n",
      "Unexpected error occurred. REQUEST_DENIED (This IP, site or mobile application is not authorized to use this API key. Request received from IP address 2600:6c67:6c7f:9ace:4800:950:3bbb:c801, with empty referer)\n",
      "Unexpected error occurred. REQUEST_DENIED (This IP, site or mobile application is not authorized to use this API key. Request received from IP address 2600:6c67:6c7f:9ace:4800:950:3bbb:c801, with empty referer)\n",
      "Unexpected error occurred. REQUEST_DENIED (This IP, site or mobile application is not authorized to use this API key. Request received from IP address 2600:6c67:6c7f:9ace:4800:950:3bbb:c801, with empty referer)\n",
      "Unexpected error occurred. REQUEST_DENIED (This IP, site or mobile application is not authorized to use this API key. Request received from IP address 2600:6c67:6c7f:9ace:4800:950:3bbb:c801, with empty referer)\n",
      "Unexpected error occurred. REQUEST_DENIED (This IP, site or mobile application is not authorized to use this API key. Request received from IP address 2600:6c67:6c7f:9ace:4800:950:3bbb:c801, with empty referer)\n",
      "Unexpected error occurred. REQUEST_DENIED (This IP, site or mobile application is not authorized to use this API key. Request received from IP address 2600:6c67:6c7f:9ace:4800:950:3bbb:c801, with empty referer)\n",
      "Unexpected error occurred. REQUEST_DENIED (This IP, site or mobile application is not authorized to use this API key. Request received from IP address 2600:6c67:6c7f:9ace:4800:950:3bbb:c801, with empty referer)\n",
      "Unexpected error occurred. REQUEST_DENIED (This IP, site or mobile application is not authorized to use this API key. Request received from IP address 2600:6c67:6c7f:9ace:4800:950:3bbb:c801, with empty referer)\n",
      "Unexpected error occurred. REQUEST_DENIED (This IP, site or mobile application is not authorized to use this API key. Request received from IP address 2600:6c67:6c7f:9ace:4800:950:3bbb:c801, with empty referer)\n",
      "Unexpected error occurred. REQUEST_DENIED (This IP, site or mobile application is not authorized to use this API key. Request received from IP address 2600:6c67:6c7f:9ace:4800:950:3bbb:c801, with empty referer)\n",
      "Unexpected error occurred. REQUEST_DENIED (This IP, site or mobile application is not authorized to use this API key. Request received from IP address 2600:6c67:6c7f:9ace:4800:950:3bbb:c801, with empty referer)\n",
      "Unexpected error occurred. REQUEST_DENIED (This IP, site or mobile application is not authorized to use this API key. Request received from IP address 2600:6c67:6c7f:9ace:4800:950:3bbb:c801, with empty referer)\n",
      "Unexpected error occurred. REQUEST_DENIED (This IP, site or mobile application is not authorized to use this API key. Request received from IP address 2600:6c67:6c7f:9ace:4800:950:3bbb:c801, with empty referer)\n",
      "Unexpected error occurred. REQUEST_DENIED (This IP, site or mobile application is not authorized to use this API key. Request received from IP address 2600:6c67:6c7f:9ace:4800:950:3bbb:c801, with empty referer)\n"
     ]
    },
    {
     "name": "stdout",
     "output_type": "stream",
     "text": [
      "Unexpected error occurred. REQUEST_DENIED (This IP, site or mobile application is not authorized to use this API key. Request received from IP address 2600:6c67:6c7f:9ace:4800:950:3bbb:c801, with empty referer)\n",
      "Unexpected error occurred. REQUEST_DENIED (This IP, site or mobile application is not authorized to use this API key. Request received from IP address 2600:6c67:6c7f:9ace:4800:950:3bbb:c801, with empty referer)\n",
      "Unexpected error occurred. REQUEST_DENIED (This IP, site or mobile application is not authorized to use this API key. Request received from IP address 2600:6c67:6c7f:9ace:4800:950:3bbb:c801, with empty referer)\n",
      "Unexpected error occurred. REQUEST_DENIED (This IP, site or mobile application is not authorized to use this API key. Request received from IP address 2600:6c67:6c7f:9ace:4800:950:3bbb:c801, with empty referer)\n",
      "Unexpected error occurred. REQUEST_DENIED (This IP, site or mobile application is not authorized to use this API key. Request received from IP address 2600:6c67:6c7f:9ace:4800:950:3bbb:c801, with empty referer)\n",
      "Unexpected error occurred. REQUEST_DENIED (This IP, site or mobile application is not authorized to use this API key. Request received from IP address 2600:6c67:6c7f:9ace:4800:950:3bbb:c801, with empty referer)\n",
      "Unexpected error occurred. REQUEST_DENIED (This IP, site or mobile application is not authorized to use this API key. Request received from IP address 2600:6c67:6c7f:9ace:4800:950:3bbb:c801, with empty referer)\n",
      "Unexpected error occurred. REQUEST_DENIED (This IP, site or mobile application is not authorized to use this API key. Request received from IP address 2600:6c67:6c7f:9ace:4800:950:3bbb:c801, with empty referer)\n",
      "Address was wrong...\n",
      "Unexpected error occurred. REQUEST_DENIED (This IP, site or mobile application is not authorized to use this API key. Request received from IP address 2600:6c67:6c7f:9ace:4800:950:3bbb:c801, with empty referer)\n",
      "Unexpected error occurred. REQUEST_DENIED (This IP, site or mobile application is not authorized to use this API key. Request received from IP address 2600:6c67:6c7f:9ace:4800:950:3bbb:c801, with empty referer)\n",
      "Unexpected error occurred. REQUEST_DENIED (This IP, site or mobile application is not authorized to use this API key. Request received from IP address 2600:6c67:6c7f:9ace:4800:950:3bbb:c801, with empty referer)\n",
      "Unexpected error occurred. REQUEST_DENIED (This IP, site or mobile application is not authorized to use this API key. Request received from IP address 2600:6c67:6c7f:9ace:4800:950:3bbb:c801, with empty referer)\n",
      "Unexpected error occurred. REQUEST_DENIED (This IP, site or mobile application is not authorized to use this API key. Request received from IP address 2600:6c67:6c7f:9ace:4800:950:3bbb:c801, with empty referer)\n",
      "Unexpected error occurred. REQUEST_DENIED (This IP, site or mobile application is not authorized to use this API key. Request received from IP address 2600:6c67:6c7f:9ace:4800:950:3bbb:c801, with empty referer)\n",
      "Unexpected error occurred. REQUEST_DENIED (This IP, site or mobile application is not authorized to use this API key. Request received from IP address 2600:6c67:6c7f:9ace:4800:950:3bbb:c801, with empty referer)\n",
      "Unexpected error occurred. REQUEST_DENIED (This IP, site or mobile application is not authorized to use this API key. Request received from IP address 2600:6c67:6c7f:9ace:4800:950:3bbb:c801, with empty referer)\n",
      "Unexpected error occurred. REQUEST_DENIED (This IP, site or mobile application is not authorized to use this API key. Request received from IP address 2600:6c67:6c7f:9ace:4800:950:3bbb:c801, with empty referer)\n",
      "Unexpected error occurred. REQUEST_DENIED (This IP, site or mobile application is not authorized to use this API key. Request received from IP address 2600:6c67:6c7f:9ace:4800:950:3bbb:c801, with empty referer)\n",
      "Unexpected error occurred. REQUEST_DENIED (This IP, site or mobile application is not authorized to use this API key. Request received from IP address 2600:6c67:6c7f:9ace:4800:950:3bbb:c801, with empty referer)\n",
      "Unexpected error occurred. REQUEST_DENIED (This IP, site or mobile application is not authorized to use this API key. Request received from IP address 2600:6c67:6c7f:9ace:4800:950:3bbb:c801, with empty referer)\n",
      "Unexpected error occurred. REQUEST_DENIED (This IP, site or mobile application is not authorized to use this API key. Request received from IP address 2600:6c67:6c7f:9ace:4800:950:3bbb:c801, with empty referer)\n",
      "Unexpected error occurred. REQUEST_DENIED (This IP, site or mobile application is not authorized to use this API key. Request received from IP address 2600:6c67:6c7f:9ace:4800:950:3bbb:c801, with empty referer)\n",
      "Unexpected error occurred. REQUEST_DENIED (This IP, site or mobile application is not authorized to use this API key. Request received from IP address 2600:6c67:6c7f:9ace:4800:950:3bbb:c801, with empty referer)\n",
      "Unexpected error occurred. 'long'\n",
      "Unexpected error occurred. REQUEST_DENIED (This IP, site or mobile application is not authorized to use this API key. Request received from IP address 2600:6c67:6c7f:9ace:4800:950:3bbb:c801, with empty referer)\n",
      "Unexpected error occurred. REQUEST_DENIED (This IP, site or mobile application is not authorized to use this API key. Request received from IP address 2600:6c67:6c7f:9ace:4800:950:3bbb:c801, with empty referer)\n",
      "Unexpected error occurred. REQUEST_DENIED (This IP, site or mobile application is not authorized to use this API key. Request received from IP address 2600:6c67:6c7f:9ace:4800:950:3bbb:c801, with empty referer)\n",
      "Unexpected error occurred. REQUEST_DENIED (This IP, site or mobile application is not authorized to use this API key. Request received from IP address 2600:6c67:6c7f:9ace:4800:950:3bbb:c801, with empty referer)\n",
      "Unexpected error occurred. REQUEST_DENIED (This IP, site or mobile application is not authorized to use this API key. Request received from IP address 2600:6c67:6c7f:9ace:4800:950:3bbb:c801, with empty referer)\n",
      "Unexpected error occurred. REQUEST_DENIED (This IP, site or mobile application is not authorized to use this API key. Request received from IP address 2600:6c67:6c7f:9ace:4800:950:3bbb:c801, with empty referer)\n",
      "Unexpected error occurred. REQUEST_DENIED (This IP, site or mobile application is not authorized to use this API key. Request received from IP address 2600:6c67:6c7f:9ace:4800:950:3bbb:c801, with empty referer)\n",
      "Unexpected error occurred. REQUEST_DENIED (This IP, site or mobile application is not authorized to use this API key. Request received from IP address 2600:6c67:6c7f:9ace:4800:950:3bbb:c801, with empty referer)\n",
      "Unexpected error occurred. REQUEST_DENIED (This IP, site or mobile application is not authorized to use this API key. Request received from IP address 2600:6c67:6c7f:9ace:4800:950:3bbb:c801, with empty referer)\n",
      "Unexpected error occurred. REQUEST_DENIED (This IP, site or mobile application is not authorized to use this API key. Request received from IP address 2600:6c67:6c7f:9ace:4800:950:3bbb:c801, with empty referer)\n",
      "Unexpected error occurred. 'long'\n",
      "Unexpected error occurred. REQUEST_DENIED (This IP, site or mobile application is not authorized to use this API key. Request received from IP address 2600:6c67:6c7f:9ace:4800:950:3bbb:c801, with empty referer)\n",
      "Unexpected error occurred. REQUEST_DENIED (This IP, site or mobile application is not authorized to use this API key. Request received from IP address 2600:6c67:6c7f:9ace:4800:950:3bbb:c801, with empty referer)\n",
      "Unexpected error occurred. REQUEST_DENIED (This IP, site or mobile application is not authorized to use this API key. Request received from IP address 2600:6c67:6c7f:9ace:4800:950:3bbb:c801, with empty referer)\n",
      "Unexpected error occurred. REQUEST_DENIED (This IP, site or mobile application is not authorized to use this API key. Request received from IP address 2600:6c67:6c7f:9ace:4800:950:3bbb:c801, with empty referer)\n",
      "Unexpected error occurred. REQUEST_DENIED (This IP, site or mobile application is not authorized to use this API key. Request received from IP address 2600:6c67:6c7f:9ace:4800:950:3bbb:c801, with empty referer)\n",
      "Unexpected error occurred. REQUEST_DENIED (This IP, site or mobile application is not authorized to use this API key. Request received from IP address 2600:6c67:6c7f:9ace:4800:950:3bbb:c801, with empty referer)\n",
      "Unexpected error occurred. REQUEST_DENIED (This IP, site or mobile application is not authorized to use this API key. Request received from IP address 2600:6c67:6c7f:9ace:4800:950:3bbb:c801, with empty referer)\n"
     ]
    },
    {
     "name": "stdout",
     "output_type": "stream",
     "text": [
      "Unexpected error occurred. REQUEST_DENIED (This IP, site or mobile application is not authorized to use this API key. Request received from IP address 2600:6c67:6c7f:9ace:4800:950:3bbb:c801, with empty referer)\n",
      "Unexpected error occurred. REQUEST_DENIED (This IP, site or mobile application is not authorized to use this API key. Request received from IP address 2600:6c67:6c7f:9ace:4800:950:3bbb:c801, with empty referer)\n",
      "Unexpected error occurred. REQUEST_DENIED (This IP, site or mobile application is not authorized to use this API key. Request received from IP address 2600:6c67:6c7f:9ace:4800:950:3bbb:c801, with empty referer)\n",
      "Unexpected error occurred. REQUEST_DENIED (This IP, site or mobile application is not authorized to use this API key. Request received from IP address 2600:6c67:6c7f:9ace:4800:950:3bbb:c801, with empty referer)\n",
      "Unexpected error occurred. REQUEST_DENIED (This IP, site or mobile application is not authorized to use this API key. Request received from IP address 2600:6c67:6c7f:9ace:4800:950:3bbb:c801, with empty referer)\n",
      "Unexpected error occurred. REQUEST_DENIED (This IP, site or mobile application is not authorized to use this API key. Request received from IP address 2600:6c67:6c7f:9ace:4800:950:3bbb:c801, with empty referer)\n",
      "Unexpected error occurred. REQUEST_DENIED (This IP, site or mobile application is not authorized to use this API key. Request received from IP address 2600:6c67:6c7f:9ace:4800:950:3bbb:c801, with empty referer)\n",
      "Unexpected error occurred. REQUEST_DENIED (This IP, site or mobile application is not authorized to use this API key. Request received from IP address 2600:6c67:6c7f:9ace:4800:950:3bbb:c801, with empty referer)\n",
      "Unexpected error occurred. REQUEST_DENIED (This IP, site or mobile application is not authorized to use this API key. Request received from IP address 2600:6c67:6c7f:9ace:4800:950:3bbb:c801, with empty referer)\n",
      "Unexpected error occurred. REQUEST_DENIED (This IP, site or mobile application is not authorized to use this API key. Request received from IP address 2600:6c67:6c7f:9ace:4800:950:3bbb:c801, with empty referer)\n",
      "Unexpected error occurred. REQUEST_DENIED (This IP, site or mobile application is not authorized to use this API key. Request received from IP address 2600:6c67:6c7f:9ace:4800:950:3bbb:c801, with empty referer)\n",
      "Unexpected error occurred. REQUEST_DENIED (This IP, site or mobile application is not authorized to use this API key. Request received from IP address 2600:6c67:6c7f:9ace:4800:950:3bbb:c801, with empty referer)\n",
      "Unexpected error occurred. REQUEST_DENIED (This IP, site or mobile application is not authorized to use this API key. Request received from IP address 2600:6c67:6c7f:9ace:4800:950:3bbb:c801, with empty referer)\n",
      "Unexpected error occurred. REQUEST_DENIED (This IP, site or mobile application is not authorized to use this API key. Request received from IP address 2600:6c67:6c7f:9ace:4800:950:3bbb:c801, with empty referer)\n",
      "Unexpected error occurred. 'long'\n",
      "Unexpected error occurred. REQUEST_DENIED (This IP, site or mobile application is not authorized to use this API key. Request received from IP address 2600:6c67:6c7f:9ace:4800:950:3bbb:c801, with empty referer)\n",
      "Unexpected error occurred. REQUEST_DENIED (This IP, site or mobile application is not authorized to use this API key. Request received from IP address 2600:6c67:6c7f:9ace:4800:950:3bbb:c801, with empty referer)\n",
      "Unexpected error occurred. REQUEST_DENIED (This IP, site or mobile application is not authorized to use this API key. Request received from IP address 2600:6c67:6c7f:9ace:4800:950:3bbb:c801, with empty referer)\n",
      "Unexpected error occurred. REQUEST_DENIED (This IP, site or mobile application is not authorized to use this API key. Request received from IP address 2600:6c67:6c7f:9ace:4800:950:3bbb:c801, with empty referer)\n",
      "Unexpected error occurred. REQUEST_DENIED (This IP, site or mobile application is not authorized to use this API key. Request received from IP address 2600:6c67:6c7f:9ace:4800:950:3bbb:c801, with empty referer)\n",
      "Unexpected error occurred. REQUEST_DENIED (This IP, site or mobile application is not authorized to use this API key. Request received from IP address 2600:6c67:6c7f:9ace:4800:950:3bbb:c801, with empty referer)\n",
      "Unexpected error occurred. REQUEST_DENIED (This IP, site or mobile application is not authorized to use this API key. Request received from IP address 2600:6c67:6c7f:9ace:4800:950:3bbb:c801, with empty referer)\n",
      "Unexpected error occurred. REQUEST_DENIED (This IP, site or mobile application is not authorized to use this API key. Request received from IP address 2600:6c67:6c7f:9ace:4800:950:3bbb:c801, with empty referer)\n",
      "Unexpected error occurred. REQUEST_DENIED (This IP, site or mobile application is not authorized to use this API key. Request received from IP address 2600:6c67:6c7f:9ace:4800:950:3bbb:c801, with empty referer)\n",
      "Unexpected error occurred. REQUEST_DENIED (This IP, site or mobile application is not authorized to use this API key. Request received from IP address 2600:6c67:6c7f:9ace:4800:950:3bbb:c801, with empty referer)\n",
      "Unexpected error occurred. REQUEST_DENIED (This IP, site or mobile application is not authorized to use this API key. Request received from IP address 2600:6c67:6c7f:9ace:4800:950:3bbb:c801, with empty referer)\n",
      "Unexpected error occurred. REQUEST_DENIED (This IP, site or mobile application is not authorized to use this API key. Request received from IP address 2600:6c67:6c7f:9ace:4800:950:3bbb:c801, with empty referer)\n",
      "Unexpected error occurred. REQUEST_DENIED (This IP, site or mobile application is not authorized to use this API key. Request received from IP address 2600:6c67:6c7f:9ace:4800:950:3bbb:c801, with empty referer)\n",
      "Unexpected error occurred. REQUEST_DENIED (This IP, site or mobile application is not authorized to use this API key. Request received from IP address 2600:6c67:6c7f:9ace:4800:950:3bbb:c801, with empty referer)\n",
      "Unexpected error occurred. REQUEST_DENIED (This IP, site or mobile application is not authorized to use this API key. Request received from IP address 2600:6c67:6c7f:9ace:4800:950:3bbb:c801, with empty referer)\n",
      "Unexpected error occurred. REQUEST_DENIED (This IP, site or mobile application is not authorized to use this API key. Request received from IP address 2600:6c67:6c7f:9ace:4800:950:3bbb:c801, with empty referer)\n",
      "Unexpected error occurred. REQUEST_DENIED (This IP, site or mobile application is not authorized to use this API key. Request received from IP address 2600:6c67:6c7f:9ace:4800:950:3bbb:c801, with empty referer)\n",
      "Unexpected error occurred. REQUEST_DENIED (This IP, site or mobile application is not authorized to use this API key. Request received from IP address 2600:6c67:6c7f:9ace:4800:950:3bbb:c801, with empty referer)\n",
      "Unexpected error occurred. REQUEST_DENIED (This IP, site or mobile application is not authorized to use this API key. Request received from IP address 2600:6c67:6c7f:9ace:4800:950:3bbb:c801, with empty referer)\n",
      "Unexpected error occurred. REQUEST_DENIED (This IP, site or mobile application is not authorized to use this API key. Request received from IP address 2600:6c67:6c7f:9ace:4800:950:3bbb:c801, with empty referer)\n",
      "Unexpected error occurred. REQUEST_DENIED (This IP, site or mobile application is not authorized to use this API key. Request received from IP address 2600:6c67:6c7f:9ace:4800:950:3bbb:c801, with empty referer)\n",
      "Unexpected error occurred. 'long'\n",
      "Unexpected error occurred. REQUEST_DENIED (This IP, site or mobile application is not authorized to use this API key. Request received from IP address 2600:6c67:6c7f:9ace:4800:950:3bbb:c801, with empty referer)\n",
      "Unexpected error occurred. REQUEST_DENIED (This IP, site or mobile application is not authorized to use this API key. Request received from IP address 2600:6c67:6c7f:9ace:4800:950:3bbb:c801, with empty referer)\n",
      "Unexpected error occurred. REQUEST_DENIED (This IP, site or mobile application is not authorized to use this API key. Request received from IP address 2600:6c67:6c7f:9ace:4800:950:3bbb:c801, with empty referer)\n",
      "Unexpected error occurred. REQUEST_DENIED (This IP, site or mobile application is not authorized to use this API key. Request received from IP address 2600:6c67:6c7f:9ace:4800:950:3bbb:c801, with empty referer)\n",
      "Unexpected error occurred. REQUEST_DENIED (This IP, site or mobile application is not authorized to use this API key. Request received from IP address 2600:6c67:6c7f:9ace:4800:950:3bbb:c801, with empty referer)\n"
     ]
    },
    {
     "name": "stdout",
     "output_type": "stream",
     "text": [
      "Address was wrong...\n"
     ]
    },
    {
     "ename": "KeyboardInterrupt",
     "evalue": "",
     "output_type": "error",
     "traceback": [
      "\u001b[0;31m---------------------------------------------------------------------------\u001b[0m",
      "\u001b[0;31mKeyboardInterrupt\u001b[0m                         Traceback (most recent call last)",
      "Input \u001b[0;32mIn [8]\u001b[0m, in \u001b[0;36m<cell line: 1>\u001b[0;34m()\u001b[0m\n\u001b[1;32m      1\u001b[0m \u001b[38;5;28;01mfor\u001b[39;00m x \u001b[38;5;129;01min\u001b[39;00m \u001b[38;5;28mrange\u001b[39m(\u001b[38;5;28mlen\u001b[39m(df)):\n\u001b[1;32m      2\u001b[0m     \u001b[38;5;28;01mtry\u001b[39;00m:\n\u001b[1;32m      3\u001b[0m         \u001b[38;5;66;03m#time.sleep(10) #to add delay in case of large DFs\u001b[39;00m\n\u001b[0;32m----> 4\u001b[0m         geocode_result \u001b[38;5;241m=\u001b[39m \u001b[43mgmaps\u001b[49m\u001b[38;5;241;43m.\u001b[39;49m\u001b[43mgeocode\u001b[49m\u001b[43m(\u001b[49m\u001b[43mdf\u001b[49m\u001b[43m[\u001b[49m\u001b[38;5;124;43m'\u001b[39;49m\u001b[38;5;124;43mConcat Address\u001b[39;49m\u001b[38;5;124;43m'\u001b[39;49m\u001b[43m]\u001b[49m\u001b[43m[\u001b[49m\u001b[43mx\u001b[49m\u001b[43m]\u001b[49m\u001b[43m)\u001b[49m\n\u001b[1;32m      5\u001b[0m         df[\u001b[38;5;124m'\u001b[39m\u001b[38;5;124mlat\u001b[39m\u001b[38;5;124m'\u001b[39m][x] \u001b[38;5;241m=\u001b[39m geocode_result[\u001b[38;5;241m0\u001b[39m][\u001b[38;5;124m'\u001b[39m\u001b[38;5;124mgeometry\u001b[39m\u001b[38;5;124m'\u001b[39m][\u001b[38;5;124m'\u001b[39m\u001b[38;5;124mlocation\u001b[39m\u001b[38;5;124m'\u001b[39m] [\u001b[38;5;124m'\u001b[39m\u001b[38;5;124mlat\u001b[39m\u001b[38;5;124m'\u001b[39m]\n\u001b[1;32m      6\u001b[0m         df[\u001b[38;5;124m'\u001b[39m\u001b[38;5;124mlong\u001b[39m\u001b[38;5;124m'\u001b[39m][x] \u001b[38;5;241m=\u001b[39m geocode_result[\u001b[38;5;241m0\u001b[39m][\u001b[38;5;124m'\u001b[39m\u001b[38;5;124mgeometry\u001b[39m\u001b[38;5;124m'\u001b[39m][\u001b[38;5;124m'\u001b[39m\u001b[38;5;124mlocation\u001b[39m\u001b[38;5;124m'\u001b[39m][\u001b[38;5;124m'\u001b[39m\u001b[38;5;124mlong\u001b[39m\u001b[38;5;124m'\u001b[39m]\n",
      "File \u001b[0;32m~/opt/anaconda3/lib/python3.9/site-packages/googlemaps/client.py:445\u001b[0m, in \u001b[0;36mmake_api_method.<locals>.wrapper\u001b[0;34m(*args, **kwargs)\u001b[0m\n\u001b[1;32m    442\u001b[0m \u001b[38;5;129m@functools\u001b[39m\u001b[38;5;241m.\u001b[39mwraps(func)\n\u001b[1;32m    443\u001b[0m \u001b[38;5;28;01mdef\u001b[39;00m \u001b[38;5;21mwrapper\u001b[39m(\u001b[38;5;241m*\u001b[39margs, \u001b[38;5;241m*\u001b[39m\u001b[38;5;241m*\u001b[39mkwargs):\n\u001b[1;32m    444\u001b[0m     args[\u001b[38;5;241m0\u001b[39m]\u001b[38;5;241m.\u001b[39m_extra_params \u001b[38;5;241m=\u001b[39m kwargs\u001b[38;5;241m.\u001b[39mpop(\u001b[38;5;124m\"\u001b[39m\u001b[38;5;124mextra_params\u001b[39m\u001b[38;5;124m\"\u001b[39m, \u001b[38;5;28;01mNone\u001b[39;00m)\n\u001b[0;32m--> 445\u001b[0m     result \u001b[38;5;241m=\u001b[39m \u001b[43mfunc\u001b[49m\u001b[43m(\u001b[49m\u001b[38;5;241;43m*\u001b[39;49m\u001b[43margs\u001b[49m\u001b[43m,\u001b[49m\u001b[43m \u001b[49m\u001b[38;5;241;43m*\u001b[39;49m\u001b[38;5;241;43m*\u001b[39;49m\u001b[43mkwargs\u001b[49m\u001b[43m)\u001b[49m\n\u001b[1;32m    446\u001b[0m     \u001b[38;5;28;01mtry\u001b[39;00m:\n\u001b[1;32m    447\u001b[0m         \u001b[38;5;28;01mdel\u001b[39;00m args[\u001b[38;5;241m0\u001b[39m]\u001b[38;5;241m.\u001b[39m_extra_params\n",
      "File \u001b[0;32m~/opt/anaconda3/lib/python3.9/site-packages/googlemaps/geocoding.py:75\u001b[0m, in \u001b[0;36mgeocode\u001b[0;34m(client, address, place_id, components, bounds, region, language)\u001b[0m\n\u001b[1;32m     72\u001b[0m \u001b[38;5;28;01mif\u001b[39;00m language:\n\u001b[1;32m     73\u001b[0m     params[\u001b[38;5;124m\"\u001b[39m\u001b[38;5;124mlanguage\u001b[39m\u001b[38;5;124m\"\u001b[39m] \u001b[38;5;241m=\u001b[39m language\n\u001b[0;32m---> 75\u001b[0m \u001b[38;5;28;01mreturn\u001b[39;00m \u001b[43mclient\u001b[49m\u001b[38;5;241;43m.\u001b[39;49m\u001b[43m_request\u001b[49m\u001b[43m(\u001b[49m\u001b[38;5;124;43m\"\u001b[39;49m\u001b[38;5;124;43m/maps/api/geocode/json\u001b[39;49m\u001b[38;5;124;43m\"\u001b[39;49m\u001b[43m,\u001b[49m\u001b[43m \u001b[49m\u001b[43mparams\u001b[49m\u001b[43m)\u001b[49m\u001b[38;5;241m.\u001b[39mget(\u001b[38;5;124m\"\u001b[39m\u001b[38;5;124mresults\u001b[39m\u001b[38;5;124m\"\u001b[39m, [])\n",
      "File \u001b[0;32m~/opt/anaconda3/lib/python3.9/site-packages/googlemaps/client.py:315\u001b[0m, in \u001b[0;36mClient._request\u001b[0;34m(self, url, params, first_request_time, retry_counter, base_url, accepts_clientid, extract_body, requests_kwargs, post_json)\u001b[0m\n\u001b[1;32m    312\u001b[0m     final_requests_kwargs[\u001b[38;5;124m\"\u001b[39m\u001b[38;5;124mjson\u001b[39m\u001b[38;5;124m\"\u001b[39m] \u001b[38;5;241m=\u001b[39m post_json\n\u001b[1;32m    314\u001b[0m \u001b[38;5;28;01mtry\u001b[39;00m:\n\u001b[0;32m--> 315\u001b[0m     response \u001b[38;5;241m=\u001b[39m \u001b[43mrequests_method\u001b[49m\u001b[43m(\u001b[49m\u001b[43mbase_url\u001b[49m\u001b[43m \u001b[49m\u001b[38;5;241;43m+\u001b[39;49m\u001b[43m \u001b[49m\u001b[43mauthed_url\u001b[49m\u001b[43m,\u001b[49m\n\u001b[1;32m    316\u001b[0m \u001b[43m                               \u001b[49m\u001b[38;5;241;43m*\u001b[39;49m\u001b[38;5;241;43m*\u001b[39;49m\u001b[43mfinal_requests_kwargs\u001b[49m\u001b[43m)\u001b[49m\n\u001b[1;32m    317\u001b[0m \u001b[38;5;28;01mexcept\u001b[39;00m requests\u001b[38;5;241m.\u001b[39mexceptions\u001b[38;5;241m.\u001b[39mTimeout:\n\u001b[1;32m    318\u001b[0m     \u001b[38;5;28;01mraise\u001b[39;00m googlemaps\u001b[38;5;241m.\u001b[39mexceptions\u001b[38;5;241m.\u001b[39mTimeout()\n",
      "File \u001b[0;32m~/opt/anaconda3/lib/python3.9/site-packages/requests/sessions.py:542\u001b[0m, in \u001b[0;36mSession.get\u001b[0;34m(self, url, **kwargs)\u001b[0m\n\u001b[1;32m    534\u001b[0m \u001b[38;5;124mr\u001b[39m\u001b[38;5;124;03m\"\"\"Sends a GET request. Returns :class:`Response` object.\u001b[39;00m\n\u001b[1;32m    535\u001b[0m \n\u001b[1;32m    536\u001b[0m \u001b[38;5;124;03m:param url: URL for the new :class:`Request` object.\u001b[39;00m\n\u001b[1;32m    537\u001b[0m \u001b[38;5;124;03m:param \\*\\*kwargs: Optional arguments that ``request`` takes.\u001b[39;00m\n\u001b[1;32m    538\u001b[0m \u001b[38;5;124;03m:rtype: requests.Response\u001b[39;00m\n\u001b[1;32m    539\u001b[0m \u001b[38;5;124;03m\"\"\"\u001b[39;00m\n\u001b[1;32m    541\u001b[0m kwargs\u001b[38;5;241m.\u001b[39msetdefault(\u001b[38;5;124m'\u001b[39m\u001b[38;5;124mallow_redirects\u001b[39m\u001b[38;5;124m'\u001b[39m, \u001b[38;5;28;01mTrue\u001b[39;00m)\n\u001b[0;32m--> 542\u001b[0m \u001b[38;5;28;01mreturn\u001b[39;00m \u001b[38;5;28;43mself\u001b[39;49m\u001b[38;5;241;43m.\u001b[39;49m\u001b[43mrequest\u001b[49m\u001b[43m(\u001b[49m\u001b[38;5;124;43m'\u001b[39;49m\u001b[38;5;124;43mGET\u001b[39;49m\u001b[38;5;124;43m'\u001b[39;49m\u001b[43m,\u001b[49m\u001b[43m \u001b[49m\u001b[43murl\u001b[49m\u001b[43m,\u001b[49m\u001b[43m \u001b[49m\u001b[38;5;241;43m*\u001b[39;49m\u001b[38;5;241;43m*\u001b[39;49m\u001b[43mkwargs\u001b[49m\u001b[43m)\u001b[49m\n",
      "File \u001b[0;32m~/opt/anaconda3/lib/python3.9/site-packages/requests/sessions.py:529\u001b[0m, in \u001b[0;36mSession.request\u001b[0;34m(self, method, url, params, data, headers, cookies, files, auth, timeout, allow_redirects, proxies, hooks, stream, verify, cert, json)\u001b[0m\n\u001b[1;32m    524\u001b[0m send_kwargs \u001b[38;5;241m=\u001b[39m {\n\u001b[1;32m    525\u001b[0m     \u001b[38;5;124m'\u001b[39m\u001b[38;5;124mtimeout\u001b[39m\u001b[38;5;124m'\u001b[39m: timeout,\n\u001b[1;32m    526\u001b[0m     \u001b[38;5;124m'\u001b[39m\u001b[38;5;124mallow_redirects\u001b[39m\u001b[38;5;124m'\u001b[39m: allow_redirects,\n\u001b[1;32m    527\u001b[0m }\n\u001b[1;32m    528\u001b[0m send_kwargs\u001b[38;5;241m.\u001b[39mupdate(settings)\n\u001b[0;32m--> 529\u001b[0m resp \u001b[38;5;241m=\u001b[39m \u001b[38;5;28;43mself\u001b[39;49m\u001b[38;5;241;43m.\u001b[39;49m\u001b[43msend\u001b[49m\u001b[43m(\u001b[49m\u001b[43mprep\u001b[49m\u001b[43m,\u001b[49m\u001b[43m \u001b[49m\u001b[38;5;241;43m*\u001b[39;49m\u001b[38;5;241;43m*\u001b[39;49m\u001b[43msend_kwargs\u001b[49m\u001b[43m)\u001b[49m\n\u001b[1;32m    531\u001b[0m \u001b[38;5;28;01mreturn\u001b[39;00m resp\n",
      "File \u001b[0;32m~/opt/anaconda3/lib/python3.9/site-packages/requests/sessions.py:645\u001b[0m, in \u001b[0;36mSession.send\u001b[0;34m(self, request, **kwargs)\u001b[0m\n\u001b[1;32m    642\u001b[0m start \u001b[38;5;241m=\u001b[39m preferred_clock()\n\u001b[1;32m    644\u001b[0m \u001b[38;5;66;03m# Send the request\u001b[39;00m\n\u001b[0;32m--> 645\u001b[0m r \u001b[38;5;241m=\u001b[39m \u001b[43madapter\u001b[49m\u001b[38;5;241;43m.\u001b[39;49m\u001b[43msend\u001b[49m\u001b[43m(\u001b[49m\u001b[43mrequest\u001b[49m\u001b[43m,\u001b[49m\u001b[43m \u001b[49m\u001b[38;5;241;43m*\u001b[39;49m\u001b[38;5;241;43m*\u001b[39;49m\u001b[43mkwargs\u001b[49m\u001b[43m)\u001b[49m\n\u001b[1;32m    647\u001b[0m \u001b[38;5;66;03m# Total elapsed time of the request (approximately)\u001b[39;00m\n\u001b[1;32m    648\u001b[0m elapsed \u001b[38;5;241m=\u001b[39m preferred_clock() \u001b[38;5;241m-\u001b[39m start\n",
      "File \u001b[0;32m~/opt/anaconda3/lib/python3.9/site-packages/requests/adapters.py:440\u001b[0m, in \u001b[0;36mHTTPAdapter.send\u001b[0;34m(self, request, stream, timeout, verify, cert, proxies)\u001b[0m\n\u001b[1;32m    438\u001b[0m \u001b[38;5;28;01mtry\u001b[39;00m:\n\u001b[1;32m    439\u001b[0m     \u001b[38;5;28;01mif\u001b[39;00m \u001b[38;5;129;01mnot\u001b[39;00m chunked:\n\u001b[0;32m--> 440\u001b[0m         resp \u001b[38;5;241m=\u001b[39m \u001b[43mconn\u001b[49m\u001b[38;5;241;43m.\u001b[39;49m\u001b[43murlopen\u001b[49m\u001b[43m(\u001b[49m\n\u001b[1;32m    441\u001b[0m \u001b[43m            \u001b[49m\u001b[43mmethod\u001b[49m\u001b[38;5;241;43m=\u001b[39;49m\u001b[43mrequest\u001b[49m\u001b[38;5;241;43m.\u001b[39;49m\u001b[43mmethod\u001b[49m\u001b[43m,\u001b[49m\n\u001b[1;32m    442\u001b[0m \u001b[43m            \u001b[49m\u001b[43murl\u001b[49m\u001b[38;5;241;43m=\u001b[39;49m\u001b[43murl\u001b[49m\u001b[43m,\u001b[49m\n\u001b[1;32m    443\u001b[0m \u001b[43m            \u001b[49m\u001b[43mbody\u001b[49m\u001b[38;5;241;43m=\u001b[39;49m\u001b[43mrequest\u001b[49m\u001b[38;5;241;43m.\u001b[39;49m\u001b[43mbody\u001b[49m\u001b[43m,\u001b[49m\n\u001b[1;32m    444\u001b[0m \u001b[43m            \u001b[49m\u001b[43mheaders\u001b[49m\u001b[38;5;241;43m=\u001b[39;49m\u001b[43mrequest\u001b[49m\u001b[38;5;241;43m.\u001b[39;49m\u001b[43mheaders\u001b[49m\u001b[43m,\u001b[49m\n\u001b[1;32m    445\u001b[0m \u001b[43m            \u001b[49m\u001b[43mredirect\u001b[49m\u001b[38;5;241;43m=\u001b[39;49m\u001b[38;5;28;43;01mFalse\u001b[39;49;00m\u001b[43m,\u001b[49m\n\u001b[1;32m    446\u001b[0m \u001b[43m            \u001b[49m\u001b[43massert_same_host\u001b[49m\u001b[38;5;241;43m=\u001b[39;49m\u001b[38;5;28;43;01mFalse\u001b[39;49;00m\u001b[43m,\u001b[49m\n\u001b[1;32m    447\u001b[0m \u001b[43m            \u001b[49m\u001b[43mpreload_content\u001b[49m\u001b[38;5;241;43m=\u001b[39;49m\u001b[38;5;28;43;01mFalse\u001b[39;49;00m\u001b[43m,\u001b[49m\n\u001b[1;32m    448\u001b[0m \u001b[43m            \u001b[49m\u001b[43mdecode_content\u001b[49m\u001b[38;5;241;43m=\u001b[39;49m\u001b[38;5;28;43;01mFalse\u001b[39;49;00m\u001b[43m,\u001b[49m\n\u001b[1;32m    449\u001b[0m \u001b[43m            \u001b[49m\u001b[43mretries\u001b[49m\u001b[38;5;241;43m=\u001b[39;49m\u001b[38;5;28;43mself\u001b[39;49m\u001b[38;5;241;43m.\u001b[39;49m\u001b[43mmax_retries\u001b[49m\u001b[43m,\u001b[49m\n\u001b[1;32m    450\u001b[0m \u001b[43m            \u001b[49m\u001b[43mtimeout\u001b[49m\u001b[38;5;241;43m=\u001b[39;49m\u001b[43mtimeout\u001b[49m\n\u001b[1;32m    451\u001b[0m \u001b[43m        \u001b[49m\u001b[43m)\u001b[49m\n\u001b[1;32m    453\u001b[0m     \u001b[38;5;66;03m# Send the request.\u001b[39;00m\n\u001b[1;32m    454\u001b[0m     \u001b[38;5;28;01melse\u001b[39;00m:\n\u001b[1;32m    455\u001b[0m         \u001b[38;5;28;01mif\u001b[39;00m \u001b[38;5;28mhasattr\u001b[39m(conn, \u001b[38;5;124m'\u001b[39m\u001b[38;5;124mproxy_pool\u001b[39m\u001b[38;5;124m'\u001b[39m):\n",
      "File \u001b[0;32m~/opt/anaconda3/lib/python3.9/site-packages/urllib3/connectionpool.py:703\u001b[0m, in \u001b[0;36mHTTPConnectionPool.urlopen\u001b[0;34m(self, method, url, body, headers, retries, redirect, assert_same_host, timeout, pool_timeout, release_conn, chunked, body_pos, **response_kw)\u001b[0m\n\u001b[1;32m    700\u001b[0m     \u001b[38;5;28mself\u001b[39m\u001b[38;5;241m.\u001b[39m_prepare_proxy(conn)\n\u001b[1;32m    702\u001b[0m \u001b[38;5;66;03m# Make the request on the httplib connection object.\u001b[39;00m\n\u001b[0;32m--> 703\u001b[0m httplib_response \u001b[38;5;241m=\u001b[39m \u001b[38;5;28;43mself\u001b[39;49m\u001b[38;5;241;43m.\u001b[39;49m\u001b[43m_make_request\u001b[49m\u001b[43m(\u001b[49m\n\u001b[1;32m    704\u001b[0m \u001b[43m    \u001b[49m\u001b[43mconn\u001b[49m\u001b[43m,\u001b[49m\n\u001b[1;32m    705\u001b[0m \u001b[43m    \u001b[49m\u001b[43mmethod\u001b[49m\u001b[43m,\u001b[49m\n\u001b[1;32m    706\u001b[0m \u001b[43m    \u001b[49m\u001b[43murl\u001b[49m\u001b[43m,\u001b[49m\n\u001b[1;32m    707\u001b[0m \u001b[43m    \u001b[49m\u001b[43mtimeout\u001b[49m\u001b[38;5;241;43m=\u001b[39;49m\u001b[43mtimeout_obj\u001b[49m\u001b[43m,\u001b[49m\n\u001b[1;32m    708\u001b[0m \u001b[43m    \u001b[49m\u001b[43mbody\u001b[49m\u001b[38;5;241;43m=\u001b[39;49m\u001b[43mbody\u001b[49m\u001b[43m,\u001b[49m\n\u001b[1;32m    709\u001b[0m \u001b[43m    \u001b[49m\u001b[43mheaders\u001b[49m\u001b[38;5;241;43m=\u001b[39;49m\u001b[43mheaders\u001b[49m\u001b[43m,\u001b[49m\n\u001b[1;32m    710\u001b[0m \u001b[43m    \u001b[49m\u001b[43mchunked\u001b[49m\u001b[38;5;241;43m=\u001b[39;49m\u001b[43mchunked\u001b[49m\u001b[43m,\u001b[49m\n\u001b[1;32m    711\u001b[0m \u001b[43m\u001b[49m\u001b[43m)\u001b[49m\n\u001b[1;32m    713\u001b[0m \u001b[38;5;66;03m# If we're going to release the connection in ``finally:``, then\u001b[39;00m\n\u001b[1;32m    714\u001b[0m \u001b[38;5;66;03m# the response doesn't need to know about the connection. Otherwise\u001b[39;00m\n\u001b[1;32m    715\u001b[0m \u001b[38;5;66;03m# it will also try to release it and we'll have a double-release\u001b[39;00m\n\u001b[1;32m    716\u001b[0m \u001b[38;5;66;03m# mess.\u001b[39;00m\n\u001b[1;32m    717\u001b[0m response_conn \u001b[38;5;241m=\u001b[39m conn \u001b[38;5;28;01mif\u001b[39;00m \u001b[38;5;129;01mnot\u001b[39;00m release_conn \u001b[38;5;28;01melse\u001b[39;00m \u001b[38;5;28;01mNone\u001b[39;00m\n",
      "File \u001b[0;32m~/opt/anaconda3/lib/python3.9/site-packages/urllib3/connectionpool.py:449\u001b[0m, in \u001b[0;36mHTTPConnectionPool._make_request\u001b[0;34m(self, conn, method, url, timeout, chunked, **httplib_request_kw)\u001b[0m\n\u001b[1;32m    444\u001b[0m             httplib_response \u001b[38;5;241m=\u001b[39m conn\u001b[38;5;241m.\u001b[39mgetresponse()\n\u001b[1;32m    445\u001b[0m         \u001b[38;5;28;01mexcept\u001b[39;00m \u001b[38;5;167;01mBaseException\u001b[39;00m \u001b[38;5;28;01mas\u001b[39;00m e:\n\u001b[1;32m    446\u001b[0m             \u001b[38;5;66;03m# Remove the TypeError from the exception chain in\u001b[39;00m\n\u001b[1;32m    447\u001b[0m             \u001b[38;5;66;03m# Python 3 (including for exceptions like SystemExit).\u001b[39;00m\n\u001b[1;32m    448\u001b[0m             \u001b[38;5;66;03m# Otherwise it looks like a bug in the code.\u001b[39;00m\n\u001b[0;32m--> 449\u001b[0m             \u001b[43msix\u001b[49m\u001b[38;5;241;43m.\u001b[39;49m\u001b[43mraise_from\u001b[49m\u001b[43m(\u001b[49m\u001b[43me\u001b[49m\u001b[43m,\u001b[49m\u001b[43m \u001b[49m\u001b[38;5;28;43;01mNone\u001b[39;49;00m\u001b[43m)\u001b[49m\n\u001b[1;32m    450\u001b[0m \u001b[38;5;28;01mexcept\u001b[39;00m (SocketTimeout, BaseSSLError, SocketError) \u001b[38;5;28;01mas\u001b[39;00m e:\n\u001b[1;32m    451\u001b[0m     \u001b[38;5;28mself\u001b[39m\u001b[38;5;241m.\u001b[39m_raise_timeout(err\u001b[38;5;241m=\u001b[39me, url\u001b[38;5;241m=\u001b[39murl, timeout_value\u001b[38;5;241m=\u001b[39mread_timeout)\n",
      "File \u001b[0;32m<string>:3\u001b[0m, in \u001b[0;36mraise_from\u001b[0;34m(value, from_value)\u001b[0m\n",
      "File \u001b[0;32m~/opt/anaconda3/lib/python3.9/site-packages/urllib3/connectionpool.py:444\u001b[0m, in \u001b[0;36mHTTPConnectionPool._make_request\u001b[0;34m(self, conn, method, url, timeout, chunked, **httplib_request_kw)\u001b[0m\n\u001b[1;32m    441\u001b[0m \u001b[38;5;28;01mexcept\u001b[39;00m \u001b[38;5;167;01mTypeError\u001b[39;00m:\n\u001b[1;32m    442\u001b[0m     \u001b[38;5;66;03m# Python 3\u001b[39;00m\n\u001b[1;32m    443\u001b[0m     \u001b[38;5;28;01mtry\u001b[39;00m:\n\u001b[0;32m--> 444\u001b[0m         httplib_response \u001b[38;5;241m=\u001b[39m \u001b[43mconn\u001b[49m\u001b[38;5;241;43m.\u001b[39;49m\u001b[43mgetresponse\u001b[49m\u001b[43m(\u001b[49m\u001b[43m)\u001b[49m\n\u001b[1;32m    445\u001b[0m     \u001b[38;5;28;01mexcept\u001b[39;00m \u001b[38;5;167;01mBaseException\u001b[39;00m \u001b[38;5;28;01mas\u001b[39;00m e:\n\u001b[1;32m    446\u001b[0m         \u001b[38;5;66;03m# Remove the TypeError from the exception chain in\u001b[39;00m\n\u001b[1;32m    447\u001b[0m         \u001b[38;5;66;03m# Python 3 (including for exceptions like SystemExit).\u001b[39;00m\n\u001b[1;32m    448\u001b[0m         \u001b[38;5;66;03m# Otherwise it looks like a bug in the code.\u001b[39;00m\n\u001b[1;32m    449\u001b[0m         six\u001b[38;5;241m.\u001b[39mraise_from(e, \u001b[38;5;28;01mNone\u001b[39;00m)\n",
      "File \u001b[0;32m~/opt/anaconda3/lib/python3.9/http/client.py:1377\u001b[0m, in \u001b[0;36mHTTPConnection.getresponse\u001b[0;34m(self)\u001b[0m\n\u001b[1;32m   1375\u001b[0m \u001b[38;5;28;01mtry\u001b[39;00m:\n\u001b[1;32m   1376\u001b[0m     \u001b[38;5;28;01mtry\u001b[39;00m:\n\u001b[0;32m-> 1377\u001b[0m         \u001b[43mresponse\u001b[49m\u001b[38;5;241;43m.\u001b[39;49m\u001b[43mbegin\u001b[49m\u001b[43m(\u001b[49m\u001b[43m)\u001b[49m\n\u001b[1;32m   1378\u001b[0m     \u001b[38;5;28;01mexcept\u001b[39;00m \u001b[38;5;167;01mConnectionError\u001b[39;00m:\n\u001b[1;32m   1379\u001b[0m         \u001b[38;5;28mself\u001b[39m\u001b[38;5;241m.\u001b[39mclose()\n",
      "File \u001b[0;32m~/opt/anaconda3/lib/python3.9/http/client.py:320\u001b[0m, in \u001b[0;36mHTTPResponse.begin\u001b[0;34m(self)\u001b[0m\n\u001b[1;32m    318\u001b[0m \u001b[38;5;66;03m# read until we get a non-100 response\u001b[39;00m\n\u001b[1;32m    319\u001b[0m \u001b[38;5;28;01mwhile\u001b[39;00m \u001b[38;5;28;01mTrue\u001b[39;00m:\n\u001b[0;32m--> 320\u001b[0m     version, status, reason \u001b[38;5;241m=\u001b[39m \u001b[38;5;28;43mself\u001b[39;49m\u001b[38;5;241;43m.\u001b[39;49m\u001b[43m_read_status\u001b[49m\u001b[43m(\u001b[49m\u001b[43m)\u001b[49m\n\u001b[1;32m    321\u001b[0m     \u001b[38;5;28;01mif\u001b[39;00m status \u001b[38;5;241m!=\u001b[39m CONTINUE:\n\u001b[1;32m    322\u001b[0m         \u001b[38;5;28;01mbreak\u001b[39;00m\n",
      "File \u001b[0;32m~/opt/anaconda3/lib/python3.9/http/client.py:281\u001b[0m, in \u001b[0;36mHTTPResponse._read_status\u001b[0;34m(self)\u001b[0m\n\u001b[1;32m    280\u001b[0m \u001b[38;5;28;01mdef\u001b[39;00m \u001b[38;5;21m_read_status\u001b[39m(\u001b[38;5;28mself\u001b[39m):\n\u001b[0;32m--> 281\u001b[0m     line \u001b[38;5;241m=\u001b[39m \u001b[38;5;28mstr\u001b[39m(\u001b[38;5;28;43mself\u001b[39;49m\u001b[38;5;241;43m.\u001b[39;49m\u001b[43mfp\u001b[49m\u001b[38;5;241;43m.\u001b[39;49m\u001b[43mreadline\u001b[49m\u001b[43m(\u001b[49m\u001b[43m_MAXLINE\u001b[49m\u001b[43m \u001b[49m\u001b[38;5;241;43m+\u001b[39;49m\u001b[43m \u001b[49m\u001b[38;5;241;43m1\u001b[39;49m\u001b[43m)\u001b[49m, \u001b[38;5;124m\"\u001b[39m\u001b[38;5;124miso-8859-1\u001b[39m\u001b[38;5;124m\"\u001b[39m)\n\u001b[1;32m    282\u001b[0m     \u001b[38;5;28;01mif\u001b[39;00m \u001b[38;5;28mlen\u001b[39m(line) \u001b[38;5;241m>\u001b[39m _MAXLINE:\n\u001b[1;32m    283\u001b[0m         \u001b[38;5;28;01mraise\u001b[39;00m LineTooLong(\u001b[38;5;124m\"\u001b[39m\u001b[38;5;124mstatus line\u001b[39m\u001b[38;5;124m\"\u001b[39m)\n",
      "File \u001b[0;32m~/opt/anaconda3/lib/python3.9/socket.py:704\u001b[0m, in \u001b[0;36mSocketIO.readinto\u001b[0;34m(self, b)\u001b[0m\n\u001b[1;32m    702\u001b[0m \u001b[38;5;28;01mwhile\u001b[39;00m \u001b[38;5;28;01mTrue\u001b[39;00m:\n\u001b[1;32m    703\u001b[0m     \u001b[38;5;28;01mtry\u001b[39;00m:\n\u001b[0;32m--> 704\u001b[0m         \u001b[38;5;28;01mreturn\u001b[39;00m \u001b[38;5;28;43mself\u001b[39;49m\u001b[38;5;241;43m.\u001b[39;49m\u001b[43m_sock\u001b[49m\u001b[38;5;241;43m.\u001b[39;49m\u001b[43mrecv_into\u001b[49m\u001b[43m(\u001b[49m\u001b[43mb\u001b[49m\u001b[43m)\u001b[49m\n\u001b[1;32m    705\u001b[0m     \u001b[38;5;28;01mexcept\u001b[39;00m timeout:\n\u001b[1;32m    706\u001b[0m         \u001b[38;5;28mself\u001b[39m\u001b[38;5;241m.\u001b[39m_timeout_occurred \u001b[38;5;241m=\u001b[39m \u001b[38;5;28;01mTrue\u001b[39;00m\n",
      "File \u001b[0;32m~/opt/anaconda3/lib/python3.9/ssl.py:1241\u001b[0m, in \u001b[0;36mSSLSocket.recv_into\u001b[0;34m(self, buffer, nbytes, flags)\u001b[0m\n\u001b[1;32m   1237\u001b[0m     \u001b[38;5;28;01mif\u001b[39;00m flags \u001b[38;5;241m!=\u001b[39m \u001b[38;5;241m0\u001b[39m:\n\u001b[1;32m   1238\u001b[0m         \u001b[38;5;28;01mraise\u001b[39;00m \u001b[38;5;167;01mValueError\u001b[39;00m(\n\u001b[1;32m   1239\u001b[0m           \u001b[38;5;124m\"\u001b[39m\u001b[38;5;124mnon-zero flags not allowed in calls to recv_into() on \u001b[39m\u001b[38;5;132;01m%s\u001b[39;00m\u001b[38;5;124m\"\u001b[39m \u001b[38;5;241m%\u001b[39m\n\u001b[1;32m   1240\u001b[0m           \u001b[38;5;28mself\u001b[39m\u001b[38;5;241m.\u001b[39m\u001b[38;5;18m__class__\u001b[39m)\n\u001b[0;32m-> 1241\u001b[0m     \u001b[38;5;28;01mreturn\u001b[39;00m \u001b[38;5;28;43mself\u001b[39;49m\u001b[38;5;241;43m.\u001b[39;49m\u001b[43mread\u001b[49m\u001b[43m(\u001b[49m\u001b[43mnbytes\u001b[49m\u001b[43m,\u001b[49m\u001b[43m \u001b[49m\u001b[43mbuffer\u001b[49m\u001b[43m)\u001b[49m\n\u001b[1;32m   1242\u001b[0m \u001b[38;5;28;01melse\u001b[39;00m:\n\u001b[1;32m   1243\u001b[0m     \u001b[38;5;28;01mreturn\u001b[39;00m \u001b[38;5;28msuper\u001b[39m()\u001b[38;5;241m.\u001b[39mrecv_into(buffer, nbytes, flags)\n",
      "File \u001b[0;32m~/opt/anaconda3/lib/python3.9/ssl.py:1099\u001b[0m, in \u001b[0;36mSSLSocket.read\u001b[0;34m(self, len, buffer)\u001b[0m\n\u001b[1;32m   1097\u001b[0m \u001b[38;5;28;01mtry\u001b[39;00m:\n\u001b[1;32m   1098\u001b[0m     \u001b[38;5;28;01mif\u001b[39;00m buffer \u001b[38;5;129;01mis\u001b[39;00m \u001b[38;5;129;01mnot\u001b[39;00m \u001b[38;5;28;01mNone\u001b[39;00m:\n\u001b[0;32m-> 1099\u001b[0m         \u001b[38;5;28;01mreturn\u001b[39;00m \u001b[38;5;28;43mself\u001b[39;49m\u001b[38;5;241;43m.\u001b[39;49m\u001b[43m_sslobj\u001b[49m\u001b[38;5;241;43m.\u001b[39;49m\u001b[43mread\u001b[49m\u001b[43m(\u001b[49m\u001b[38;5;28;43mlen\u001b[39;49m\u001b[43m,\u001b[49m\u001b[43m \u001b[49m\u001b[43mbuffer\u001b[49m\u001b[43m)\u001b[49m\n\u001b[1;32m   1100\u001b[0m     \u001b[38;5;28;01melse\u001b[39;00m:\n\u001b[1;32m   1101\u001b[0m         \u001b[38;5;28;01mreturn\u001b[39;00m \u001b[38;5;28mself\u001b[39m\u001b[38;5;241m.\u001b[39m_sslobj\u001b[38;5;241m.\u001b[39mread(\u001b[38;5;28mlen\u001b[39m)\n",
      "\u001b[0;31mKeyboardInterrupt\u001b[0m: "
     ]
    }
   ],
   "source": [
    "for x in range(len(df)):\n",
    "    try:\n",
    "        #time.sleep(10) #to add delay in case of large DFs\n",
    "        geocode_result = gmaps.geocode(df['Concat Address'][x])\n",
    "        df['lat'][x] = geocode_result[0]['geometry']['location'] ['lat']\n",
    "        df['long'][x] = geocode_result[0]['geometry']['location']['long']\n",
    "    except IndexError:\n",
    "        print(\"Address was wrong...\")\n",
    "    except Exception as e:\n",
    "        print(\"Unexpected error occurred.\", e )\n",
    "#df.head()"
   ]
  },
  {
   "cell_type": "markdown",
   "id": "77ac254a",
   "metadata": {},
   "source": [
    "Save DF as Excel Fil"
   ]
  },
  {
   "cell_type": "code",
   "execution_count": null,
   "id": "abe017ae",
   "metadata": {},
   "outputs": [],
   "source": [
    "df.to_excel(r'/Users/heatherphillips/Library/CloudStorage/OneDrive-TheUniversityofMontana/Capstone/MRA Project/Data/MRA List Edited2.xlsx', index=False)"
   ]
  }
 ],
 "metadata": {
  "kernelspec": {
   "display_name": "Python 3 (ipykernel)",
   "language": "python",
   "name": "python3"
  },
  "language_info": {
   "codemirror_mode": {
    "name": "ipython",
    "version": 3
   },
   "file_extension": ".py",
   "mimetype": "text/x-python",
   "name": "python",
   "nbconvert_exporter": "python",
   "pygments_lexer": "ipython3",
   "version": "3.9.12"
  }
 },
 "nbformat": 4,
 "nbformat_minor": 5
}
